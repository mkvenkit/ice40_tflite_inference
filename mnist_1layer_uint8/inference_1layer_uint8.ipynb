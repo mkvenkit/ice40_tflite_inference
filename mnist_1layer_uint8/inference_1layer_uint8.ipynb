{
 "cells": [
  {
   "cell_type": "code",
   "execution_count": 14,
   "id": "2d370fb6",
   "metadata": {},
   "outputs": [],
   "source": [
    "import numpy as np\n",
    "from matplotlib import pyplot as plt"
   ]
  },
  {
   "cell_type": "markdown",
   "id": "0b2822e7",
   "metadata": {},
   "source": [
    "We're going to use the 1 layer model shown below.\n",
    "\n",
    "![1 Layer](1layer.png)"
   ]
  },
  {
   "cell_type": "code",
   "execution_count": 15,
   "id": "9b5d70ec",
   "metadata": {},
   "outputs": [
    {
     "name": "stdout",
     "output_type": "stream",
     "text": [
      "(10, 784) (10,)\n",
      "(28, 28) float32\n"
     ]
    }
   ],
   "source": [
    "A = np.load('A.npy')#.astype(np.uint8)\n",
    "B = np.load('B.npy')#.astype(np.uint32)\n",
    "test_image = np.load('test_image_label_27.npy')\n",
    "print(A.shape, B.shape)\n",
    "print(test_image.shape, test_image.dtype)"
   ]
  },
  {
   "cell_type": "code",
   "execution_count": 16,
   "id": "2e5a7b30",
   "metadata": {},
   "outputs": [
    {
     "name": "stdout",
     "output_type": "stream",
     "text": [
      "[-0.05900539  0.05900539 -0.04720431  0.07080646  0.01180108]\n",
      "[-0.11995448 -0.02008497  0.16826948 -0.1149101   0.24893332]\n"
     ]
    }
   ],
   "source": [
    "print(0.011801077052950859 * A.flatten()[0:5])\n",
    "print(0.000046278735680971295 *B[0:5])"
   ]
  },
  {
   "cell_type": "markdown",
   "id": "6c19a8e6",
   "metadata": {},
   "source": [
    "For index 27, the expected label is 4. Here's the expected tensor output, obtained by running the TFLite Interpretor on the same test image:\n",
    "\n",
    "**[  0   0   0   0 130  25  23  17  38  77]**\n",
    "\n",
    "The same result from running TFLite Interpretor on the float32 model:\n",
    "\n",
    "**[ 0.         0.         0.         0.        10.18009    1.9682264\n",
    "  1.7667338  1.2612104  2.9864843  6.0077305]**"
   ]
  },
  {
   "cell_type": "code",
   "execution_count": 17,
   "id": "aedfab9a",
   "metadata": {},
   "outputs": [
    {
     "data": {
      "image/png": "[encoded data removed]",
      "text/plain": [
       "<Figure size 432x288 with 1 Axes>"
      ]
     },
     "metadata": {
      "needs_background": "light"
     },
     "output_type": "display_data"
    }
   ],
   "source": [
    "plt.imshow(test_image)\n",
    "plt.show()"
   ]
  },
  {
   "cell_type": "code",
   "execution_count": 18,
   "id": "eeab3837",
   "metadata": {},
   "outputs": [],
   "source": [
    "#print(test_image)\n",
    "#print(test_image_uint8)"
   ]
  },
  {
   "cell_type": "code",
   "execution_count": 19,
   "id": "c561bb43",
   "metadata": {},
   "outputs": [],
   "source": [
    "def ReLU(x):\n",
    "    return x * (x > 0)"
   ]
  },
  {
   "cell_type": "markdown",
   "id": "a5cd2830",
   "metadata": {},
   "source": [
    "Now test the inference by converting weights to float using the quantization parameters in the file."
   ]
  },
  {
   "cell_type": "code",
   "execution_count": 20,
   "id": "b7044ccc",
   "metadata": {},
   "outputs": [
    {
     "name": "stdout",
     "output_type": "stream",
     "text": [
      "[-0.         -0.         -0.         -0.         10.10968199  1.97744403\n",
      "  1.76044303  1.31551931  2.9919664   5.98615422] (10,)\n",
      "argmax: 4\n",
      "[  0   0   0   0 130  25  22  16  38  76]\n"
     ]
    }
   ],
   "source": [
    "X = test_image.flatten()\n",
    "\n",
    "qa1 = 0.011801077052950859\n",
    "qb1 = 0.000046278735680971295 \n",
    "X1 = np.matmul(A*qa1, X) + B*qb1\n",
    "X1 = ReLU(X1)\n",
    "# X1 = 0.07775364816188812 * (X1 + 128)\n",
    "#  0.07775364816188812 * q\n",
    "\n",
    "print(X1, X1.shape)\n",
    "print(\"argmax: {}\".format(np.argmax(X1)))\n",
    "\n",
    "X1_uint8 = np.array(X1 / 0.07775364816188812, dtype=np.uint8)\n",
    "print(X1_uint8)"
   ]
  },
  {
   "cell_type": "markdown",
   "id": "ca76fca9",
   "metadata": {},
   "source": [
    "This matches with the FTlite interpretor output on the same data.\n",
    "\n",
    "Now let's run this using integer math."
   ]
  },
  {
   "cell_type": "code",
   "execution_count": 29,
   "id": "490a01d3",
   "metadata": {},
   "outputs": [
    {
     "name": "stdout",
     "output_type": "stream",
     "text": [
      "4.627873627786102e-05\n",
      "[-0.         -0.         -0.         -0.         10.10968199  1.97744404\n",
      "  1.76044303  1.31551931  2.99196639  5.98615422]\n",
      "[-18651 -33021 -12080 -20606 217723  42527  37920  28341  64282 128821]\n",
      "[-0.86314471 -1.52817015 -0.55904713 -0.95361964 10.0759453   1.96809582\n",
      "  1.75488968  1.31158566  2.97488973  5.96167309]\n",
      "[  0   0   0   0 129  25  22  16  38  76]\n"
     ]
    }
   ],
   "source": [
    "S1 = 0.011801077052950859\n",
    "S2 = 0.003921568859368563\n",
    "Z2 = -128\n",
    "Z3 = 0\n",
    "S4 = 0.07775364816188812 \n",
    "Z4 = -128\n",
    "print(0.003921568859368563 * 0.011801077052950859)\n",
    "\n",
    "X = test_image.flatten()\n",
    "X1 = ReLU(np.matmul(S1*A, X) + B*(S1*S2))\n",
    "print(X1)\n",
    "\n",
    "Xq = np.array(X/S2, dtype=np.uint8)\n",
    "#print(Xq)\n",
    "X1 = np.array(np.matmul(A.astype(np.int32), Xq) + B, dtype=np.int32)\n",
    "print(X1)\n",
    "print(S1*S2*X1)\n",
    "\n",
    "SR = np.sum(A, axis=1)\n",
    "#print(SR)\n",
    "\n",
    "q4 = ReLU((S1*S2/S4)*X1)\n",
    "print(q4.astype(np.uint8))"
   ]
  },
  {
   "cell_type": "markdown",
   "id": "cc963158",
   "metadata": {},
   "source": [
    "Test summation"
   ]
  },
  {
   "cell_type": "code",
   "execution_count": 23,
   "id": "18347d49",
   "metadata": {},
   "outputs": [
    {
     "name": "stdout",
     "output_type": "stream",
     "text": [
      "[[1 2 3]\n",
      " [4 5 6]] (2, 3)\n",
      "[ 6 15] (2,)\n"
     ]
    }
   ],
   "source": [
    "x = np.array([[1, 2, 3], [4, 5, 6]])\n",
    "print(x, x.shape)\n",
    "y = np.sum(x, axis=1)\n",
    "print(y, y.shape)"
   ]
  },
  {
   "cell_type": "code",
   "execution_count": 24,
   "id": "100e8e23",
   "metadata": {},
   "outputs": [
    {
     "name": "stdout",
     "output_type": "stream",
     "text": [
      "[ -5   5  -4   6   1   3   1  -4  -5   7  -3   1   2  -1  -5   3   3  -3\n",
      "   7   0   6  -6   3   0   5  -2   2   4  -6   5  -7  -7  -7   4  -5  -1\n",
      "  -1  -6 -17   6  15   4 -32 -14 -33 -21 -27  -3   0  -1   1  -1  -7  -3\n",
      "   4   2  -6  -4   0   5   3 -16 -22 -18 -23 -32 -39 -16 -22 -26 -44 -75\n",
      " -50 -67 -69 -48 -40 -44 -22 -14  -5  -3   4   1  -5   7  -5   9  -6 -21\n",
      " -26 -14  -2 -19  -8  -2  -4  -3  -2  -5   3  -5 -24 -24 -20 -33 -35 -12\n",
      "  -9  -4 -14  -2   1   3  -7  -3 -15 -21 -21  -8  -4  10   3   5 -11   1\n",
      "  -7  -1  -2   1  -3 -14 -12 -10  -2 -13 -25 -19 -10  -4   4  -3 -19   0\n",
      " -24 -32  -8  -5   1  -6   7   7  -8   5  16   7   3  16  16   5  -3  -3\n",
      "   1 -22 -26 -62 -47 -10  -6   3 -13 -16 -32  -9  -9   7  -1 -18   7   5\n",
      "   4  10  13  11  10  22  16   8   5  19  11 -10 -38 -81 -54  -7  -7 -15\n",
      " -11 -21 -33  -9   5  -9 -17   1   8  12   6  14   5  14  14  20  21   9\n",
      "   7   7  10  19  -9 -55 -39 -18  12  -9   2   3 -32  -4  -1  -2   0   8\n",
      "  12  12  10   5   7  18  31  21  28  20  11  11  13  26   3 -56 -53 -13\n",
      "   3  -4  13   1 -16  -6  -9 -13   0   3   5   2   6  21   0  -2  10  24\n",
      "  24  18  10   6   0  24   3 -63 -58 -16   7  -3  -2  -3 -14   5 -14 -13\n",
      "  -4  -1  -8  11   9  -4 -12 -23 -16  15  19  20   8  12  15  16   0 -54\n",
      " -37 -15  -4  13  -6 -13 -23 -17   1  -3   2 -11  -3   3 -12 -15 -43 -63\n",
      " -52  -7   3   3  13  19  14  14  11 -38 -56 -17  -4   9 -13 -23 -20  -6\n",
      "   7  10  -7  -6  10  11   6 -28 -61 -71 -51 -19   0   1   3  15  25  17\n",
      "  29 -14 -26  -7  -6   7  -8 -19 -10   0  10  16  11  13  22  11   6 -33\n",
      " -67 -84 -50 -13   8  -2  -4   0  21  19  21   8 -25 -14   3 -11 -11 -27\n",
      " -14   9  16  25  15  19  20  23   3 -28 -69 -67 -51  -5  -8  -5  10   9\n",
      "   8  21  32  -1 -35 -18 -12   7 -21 -32   0  23  -1  24  31  22  26  12\n",
      " -12 -53 -81 -68 -41  -9   4  -4  10   8  17  19  19  -3 -29 -12  -4   3\n",
      " -25 -19   7  18  11  19  26  28  28  11 -20 -73 -73 -42 -17   7   7   4\n",
      "  13   8   7  14   2 -20 -46  -9  -2  -7 -32 -28  -7   8  11  13  17  15\n",
      "  33   0 -26 -65 -68 -30  -1   8   7   4  12   2   6   9  -6 -11 -30   7\n",
      "   6  -6 -24 -43  -8   3  12  14  13  19  21  -2 -30 -54 -50 -13   6   0\n",
      "   3  -4  -2   9  13   7  -2 -21 -28 -12  -2   9 -10 -20  -7   2   4   9\n",
      "  13  14  20  19  -1 -21 -14 -11  -1   3   4  -7   0   5   8  -1 -10 -32\n",
      " -25 -13  -1   7  -3 -21  -3   6  -4   0   4   4  23  33  17  14  -1   1\n",
      "  -2  -1 -13 -13  -7   5  -3 -16 -12 -29 -30 -10   1 -11 -11 -16 -11   1\n",
      "   7   4   5   8  20  22  21   7   5   1  -6 -19 -18 -20  -7   1   0  -8\n",
      " -24 -20   7  14  -7  -1  -8 -20 -41  -3  -2  -1   3   8   9  26  14  28\n",
      "  17  12  -4  -4  -6  -9 -12 -11   1  -1 -13 -20  12   2   4   3  -3 -26\n",
      " -32 -23  -6   6   5  12  24  25  31  16  20  12  -2   6 -11 -31 -26 -18\n",
      " -13 -19 -26 -15 -14  -4  -7   4 -16  -9  -9 -18 -20 -12 -10   7  10   6\n",
      "  27  17   5   2 -11 -20 -30 -39 -50 -52 -41 -48 -30  -7   4  -4   2  -7\n",
      " -12   1  -4 -36 -43 -30 -43 -54 -54 -45 -66 -56 -71 -66 -73 -63 -56 -60\n",
      " -51 -45 -27 -32 -32   7  -7   4  -1  -1  -4  -1  -5 -10 -31 -38 -41 -53\n",
      " -70 -48 -58 -40 -45 -47 -41 -43 -41 -17 -27 -25 -23 -13   5   4  -6  -2\n",
      "   6   7  -4   6   4 -11  -6  -9  -8  -6 -10 -11 -25 -29 -30 -19 -16 -20\n",
      " -11  -6  -6 -15 -15 -12  -5  -3  -2   2]\n",
      "-5796\n"
     ]
    }
   ],
   "source": [
    "print(A[0])\n",
    "print(np.sum(A[0]))"
   ]
  },
  {
   "cell_type": "code",
   "execution_count": null,
   "id": "14c19bb2",
   "metadata": {},
   "outputs": [],
   "source": []
  }
 ],
 "metadata": {
  "kernelspec": {
   "display_name": "Python 3",
   "language": "python",
   "name": "python3"
  },
  "language_info": {
   "codemirror_mode": {
    "name": "ipython",
    "version": 3
   },
   "file_extension": ".py",
   "mimetype": "text/x-python",
   "name": "python",
   "nbconvert_exporter": "python",
   "pygments_lexer": "ipython3",
   "version": "3.8.8"
  }
 },
 "nbformat": 4,
 "nbformat_minor": 5
}
