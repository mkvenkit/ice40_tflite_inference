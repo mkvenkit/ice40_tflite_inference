{
 "cells": [
  {
   "cell_type": "code",
   "execution_count": 14,
   "id": "2d370fb6",
   "metadata": {},
   "outputs": [],
   "source": [
    "import numpy as np\n",
    "from matplotlib import pyplot as plt"
   ]
  },
  {
   "cell_type": "markdown",
   "id": "0b2822e7",
   "metadata": {},
   "source": [
    "We're going to use the 1 layer model shown below.\n",
    "\n",
    "![1 Layer](1layer.png)"
   ]
  },
  {
   "cell_type": "code",
   "execution_count": 15,
   "id": "9b5d70ec",
   "metadata": {},
   "outputs": [
    {
     "name": "stdout",
     "output_type": "stream",
     "text": [
      "(10, 784) (10,)\n",
      "(28, 28) float32\n"
     ]
    }
   ],
   "source": [
    "A = np.load('A.npy')#.astype(np.uint8)\n",
    "B = np.load('B.npy')#.astype(np.uint32)\n",
    "test_image = np.load('test_image_label_27.npy')\n",
    "print(A.shape, B.shape)\n",
    "print(test_image.shape, test_image.dtype)"
   ]
  },
  {
   "cell_type": "code",
   "execution_count": 16,
   "id": "2e5a7b30",
   "metadata": {},
   "outputs": [
    {
     "name": "stdout",
     "output_type": "stream",
     "text": [
      "[-0.05900539  0.05900539 -0.04720431  0.07080646  0.01180108]\n",
      "[-0.11995448 -0.02008497  0.16826948 -0.1149101   0.24893332]\n"
     ]
    }
   ],
   "source": [
    "print(0.011801077052950859 * A.flatten()[0:5])\n",
    "print(0.000046278735680971295 *B[0:5])"
   ]
  },
  {
   "cell_type": "markdown",
   "id": "6c19a8e6",
   "metadata": {},
   "source": [
    "For index 27, the expected label is 4. Here's the expected tensor output, obtained by running the TFLite Interpretor on the same test image:\n",
    "\n",
    "**[  0   0   0   0 130  25  23  17  38  77]**\n",
    "\n",
    "The same result from running TFLite Interpretor on the float32 model:\n",
    "\n",
    "**[ 0.         0.         0.         0.        10.18009    1.9682264\n",
    "  1.7667338  1.2612104  2.9864843  6.0077305]**"
   ]
  },
  {
   "cell_type": "code",
   "execution_count": 17,
   "id": "aedfab9a",
   "metadata": {},
   "outputs": [
    {
     "data": {
      "image/png": "[encoded data removed]",
      "text/plain": [
       "<Figure size 432x288 with 1 Axes>"
      ]
     },
     "metadata": {
      "needs_background": "light"
     },
     "output_type": "display_data"
    }
   ],
   "source": [
    "plt.imshow(test_image)\n",
    "plt.show()"
   ]
  },
  {
   "cell_type": "code",
   "execution_count": 18,
   "id": "eeab3837",
   "metadata": {},
   "outputs": [],
   "source": [
    "#print(test_image)\n",
    "#print(test_image_uint8)"
   ]
  },
  {
   "cell_type": "code",
   "execution_count": 19,
   "id": "c561bb43",
   "metadata": {},
   "outputs": [],
   "source": [
    "def ReLU(x):\n",
    "    return x * (x > 0)"
   ]
  },
  {
   "cell_type": "markdown",
   "id": "a5cd2830",
   "metadata": {},
   "source": [
    "Now test the inference by converting weights to float using the quantization parameters in the file."
   ]
  },
  {
   "cell_type": "code",
   "execution_count": 20,
   "id": "b7044ccc",
   "metadata": {},
   "outputs": [
    {
     "name": "stdout",
     "output_type": "stream",
     "text": [
      "[-0.         -0.         -0.         -0.         10.10968199  1.97744403\n",
      "  1.76044303  1.31551931  2.9919664   5.98615422] (10,)\n",
      "argmax: 4\n",
      "[  0   0   0   0 130  25  22  16  38  76]\n"
     ]
    }
   ],
   "source": [
    "X = test_image.flatten()\n",
    "\n",
    "qa1 = 0.011801077052950859\n",
    "qb1 = 0.000046278735680971295 \n",
    "X1 = np.matmul(A*qa1, X) + B*qb1\n",
    "X1 = ReLU(X1)\n",
    "# X1 = 0.07775364816188812 * (X1 + 128)\n",
    "#  0.07775364816188812 * q\n",
    "\n",
    "print(X1, X1.shape)\n",
    "print(\"argmax: {}\".format(np.argmax(X1)))\n",
    "\n",
    "X1_uint8 = np.array(X1 / 0.07775364816188812, dtype=np.uint8)\n",
    "print(X1_uint8)"
   ]
  },
  {
   "cell_type": "markdown",
   "id": "ca76fca9",
   "metadata": {},
   "source": [
    "This matches with the FTlite interpretor output on the same data.\n",
    "\n",
    "Now let's run this using integer math."
   ]
  },
  {
   "cell_type": "code",
   "execution_count": 29,
   "id": "490a01d3",
   "metadata": {},
   "outputs": [
    {
     "name": "stdout",
     "output_type": "stream",
     "text": [
      "4.627873627786102e-05\n",
      "[-0.         -0.         -0.         -0.         10.10968199  1.97744404\n",
      "  1.76044303  1.31551931  2.99196639  5.98615422]\n",
      "[-18651 -33021 -12080 -20606 217723  42527  37920  28341  64282 128821]\n",
      "[-0.86314471 -1.52817015 -0.55904713 -0.95361964 10.0759453   1.96809582\n",
      "  1.75488968  1.31158566  2.97488973  5.96167309]\n",
      "[  0   0   0   0 129  25  22  16  38  76]\n"
     ]
    }
   ],
   "source": [
    "S1 = 0.011801077052950859\n",
    "S2 = 0.003921568859368563\n",
    "Z2 = -128\n",
    "Z3 = 0\n",
    "S4 = 0.07775364816188812 \n",
    "Z4 = -128\n",
    "print(0.003921568859368563 * 0.011801077052950859)\n",
    "\n",
    "X = test_image.flatten()\n",
    "X1 = ReLU(np.matmul(S1*A, X) + B*(S1*S2))\n",
    "print(X1)\n",
    "\n",
    "Xq = np.array(X/S2, dtype=np.uint8)\n",
    "#print(Xq)\n",
    "X1 = np.array(np.matmul(A.astype(np.int32), Xq) + B, dtype=np.int32)\n",
    "print(X1)\n",
    "print(S1*S2*X1)\n",
    "\n",
    "SR = np.sum(A, axis=1)\n",
    "#print(SR)\n",
    "\n",
    "q4 = ReLU((S1*S2/S4)*X1)\n",
    "print(q4.astype(np.uint8))"
   ]
  },
  {
   "cell_type": "markdown",
   "id": "c174f387",
   "metadata": {},
   "source": [
    "Test summation"
   ]
  },
  {
   "cell_type": "code",
   "execution_count": 23,
   "id": "18347d49",
   "metadata": {},
   "outputs": [
    {
     "name": "stdout",
     "output_type": "stream",
     "text": [
      "[[1 2 3]\n",
      " [4 5 6]] (2, 3)\n",
      "[ 6 15] (2,)\n"
     ]
    }
   ],
   "source": [
    "x = np.array([[1, 2, 3], [4, 5, 6]])\n",
    "print(x, x.shape)\n",
    "y = np.sum(x, axis=1)\n",
    "print(y, y.shape)"
   ]
  },
  {
   "cell_type": "code",
   "execution_count": null,
   "id": "14c19bb2",
   "metadata": {},
   "outputs": [],
   "source": []
  }
 ],
 "metadata": {
  "kernelspec": {
   "display_name": "Python 3",
   "language": "python",
   "name": "python3"
  },
  "language_info": {
   "codemirror_mode": {
    "name": "ipython",
    "version": 3
   },
   "file_extension": ".py",
   "mimetype": "text/x-python",
   "name": "python",
   "nbconvert_exporter": "python",
   "pygments_lexer": "ipython3",
   "version": "3.8.8"
  }
 },
 "nbformat": 4,
 "nbformat_minor": 5
}
