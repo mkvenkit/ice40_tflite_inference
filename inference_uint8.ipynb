{
 "cells": [
  {
   "cell_type": "code",
   "execution_count": 122,
   "id": "2d370fb6",
   "metadata": {},
   "outputs": [],
   "source": [
    "import numpy as np\n",
    "from matplotlib import pyplot as plt"
   ]
  },
  {
   "cell_type": "code",
   "execution_count": 123,
   "id": "9b5d70ec",
   "metadata": {},
   "outputs": [
    {
     "name": "stdout",
     "output_type": "stream",
     "text": [
      "(128, 784) (128,)\n",
      "(10, 128) (10,)\n",
      "(28, 28) float32\n"
     ]
    }
   ],
   "source": [
    "A1 = np.load('mnist_uint8/sequential_1_dense_1_MatMul.npy')\n",
    "B1 = np.load('mnist_uint8/dense_1_bias.npy')\n",
    "A2 = np.load('mnist_uint8/sequential_1_dense_2_MatMul.npy')\n",
    "B2 = np.load('mnist_uint8/dense_2_bias.npy')\n",
    "test_image = np.load('test_image_label_27.npy')\n",
    "print(A1.shape, B1.shape)\n",
    "print(A2.shape, B2.shape)\n",
    "print(test_image.shape, test_image.dtype)"
   ]
  },
  {
   "cell_type": "code",
   "execution_count": 124,
   "id": "2e5a7b30",
   "metadata": {},
   "outputs": [
    {
     "name": "stdout",
     "output_type": "stream",
     "text": [
      "[ 0.049602 -0.03543  -0.028344 -0.056688  0.056688]\n",
      "[-0.066192  0.139524 -0.064176  0.011732  0.10094 ]\n"
     ]
    }
   ],
   "source": [
    "print(0.007086 * A1.flatten()[0:5])\n",
    "print(0.000028 *B1[0:5])"
   ]
  },
  {
   "cell_type": "markdown",
   "id": "6c19a8e6",
   "metadata": {},
   "source": [
    "For index 27, the expected label is 4. Here's the expected tensor output, obtained by running the TFLite Interpretor on the same test image:\n",
    "\n",
    "**[ 75  97 100 108 217 110  85 128  97 159]**"
   ]
  },
  {
   "cell_type": "code",
   "execution_count": 125,
   "id": "aedfab9a",
   "metadata": {},
   "outputs": [
    {
     "data": {
      "image/png": "[encoded data removed]",
      "text/plain": [
       "<Figure size 432x288 with 1 Axes>"
      ]
     },
     "metadata": {
      "needs_background": "light"
     },
     "output_type": "display_data"
    }
   ],
   "source": [
    "plt.imshow(tmp)\n",
    "plt.show()"
   ]
  },
  {
   "cell_type": "code",
   "execution_count": 126,
   "id": "eeab3837",
   "metadata": {},
   "outputs": [],
   "source": [
    "#print(test_image)\n",
    "#print(test_image_uint8)"
   ]
  },
  {
   "cell_type": "code",
   "execution_count": 127,
   "id": "c561bb43",
   "metadata": {},
   "outputs": [],
   "source": [
    "def ReLU(x):\n",
    "    return x * (x > 0)"
   ]
  },
  {
   "cell_type": "code",
   "execution_count": 130,
   "id": "b7044ccc",
   "metadata": {},
   "outputs": [
    {
     "name": "stdout",
     "output_type": "stream",
     "text": [
      "[-29.33426057 -28.85156182 -28.25955224 -28.16763484 -29.18841013\n",
      " -28.26057322 -29.28854238 -28.14261387 -28.96296627 -28.84980936] (10,)\n",
      "7\n"
     ]
    }
   ],
   "source": [
    "X = test_image.flatten()\n",
    "#X = 0.003921568859368563 * X\n",
    "#X = 0.003921568859368563 * (X + 128)\n",
    "\n",
    "qa1 = 0.007085771299898624\n",
    "qb1 = 0.000027787340513896197 \n",
    "X1 = np.matmul(A1*qa1, X) + B1*qb1\n",
    "X1 = ReLU(X1)\n",
    "X1 = 0.04413054510951042 * (X1 + 128)\n",
    "\n",
    "qa2 = 0.007275809068232775\n",
    "qb2 = 0.00032108541927300394 \n",
    "X2 = np.matmul(A2*qa2, X1) + B2*qb2\n",
    "X2 = 0.1862911880016327 * (X2 - 17)\n",
    "X2 =  0.1862911880016327 * (X2 - 145)\n",
    "\n",
    "print(X2, X2.shape)\n",
    "print(np.argmax(X2))"
   ]
  },
  {
   "cell_type": "code",
   "execution_count": null,
   "id": "677a8901",
   "metadata": {},
   "outputs": [],
   "source": []
  }
 ],
 "metadata": {
  "kernelspec": {
   "display_name": "Python 3",
   "language": "python",
   "name": "python3"
  },
  "language_info": {
   "codemirror_mode": {
    "name": "ipython",
    "version": 3
   },
   "file_extension": ".py",
   "mimetype": "text/x-python",
   "name": "python",
   "nbconvert_exporter": "python",
   "pygments_lexer": "ipython3",
   "version": "3.8.8"
  }
 },
 "nbformat": 4,
 "nbformat_minor": 5
}
