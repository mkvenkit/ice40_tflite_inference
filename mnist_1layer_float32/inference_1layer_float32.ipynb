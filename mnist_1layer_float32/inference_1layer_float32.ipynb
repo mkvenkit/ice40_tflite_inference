{
 "cells": [
  {
   "cell_type": "code",
   "execution_count": 11,
   "id": "49bdee57",
   "metadata": {},
   "outputs": [],
   "source": [
    "import numpy as np\n",
    "from matplotlib import pyplot as plt"
   ]
  },
  {
   "cell_type": "code",
   "execution_count": 12,
   "id": "e6ca2d60",
   "metadata": {},
   "outputs": [
    {
     "name": "stdout",
     "output_type": "stream",
     "text": [
      "(10, 784) (10,)\n",
      "(28, 28) float32\n"
     ]
    }
   ],
   "source": [
    "A1 = np.load('mnist_1layer_float32/A.npy')\n",
    "B1 = np.load('mnist_1layer_float32/B.npy')\n",
    "test_image = np.load('test_image_label_27.npy')\n",
    "print(A1.shape, B1.shape)\n",
    "print(test_image.shape, test_image.dtype)"
   ]
  },
  {
   "cell_type": "code",
   "execution_count": 18,
   "id": "25b40a2c",
   "metadata": {},
   "outputs": [
    {
     "name": "stdout",
     "output_type": "stream",
     "text": [
      "[-0.06379906  0.06251342 -0.04498951  0.07261436  0.00914899]\n",
      "[-0.11994573 -0.02009272  0.16826795 -0.11490031  0.2489132 ]\n"
     ]
    }
   ],
   "source": [
    "print(A1.flatten()[0:5])\n",
    "print(B1[0:5])"
   ]
  },
  {
   "cell_type": "markdown",
   "id": "7d05b19d",
   "metadata": {},
   "source": [
    "For index 27, the expected label is 4. Here's the expected tensor output obtained by running the TFLite interpretor: \n",
    "\n",
    "```\n",
    "test_model(tflite_model_file, 27, model_type=\"Float\")\n",
    "```\n",
    "\n",
    "The same result from running TFLite Interpretor on the float32 model:\n",
    "\n",
    "[ 0. 0. 0. 0. 10.18009 1.9682264 1.7667338 1.2612104 2.9864843 6.0077305]"
   ]
  },
  {
   "cell_type": "code",
   "execution_count": 14,
   "id": "41d6d563",
   "metadata": {},
   "outputs": [
    {
     "data": {
      "image/png": "[encoded data removed]",
      "text/plain": [
       "<Figure size 432x288 with 1 Axes>"
      ]
     },
     "metadata": {
      "needs_background": "light"
     },
     "output_type": "display_data"
    }
   ],
   "source": [
    "plt.imshow(test_image)\n",
    "plt.show()"
   ]
  },
  {
   "cell_type": "code",
   "execution_count": 15,
   "id": "4ced4c2b",
   "metadata": {},
   "outputs": [
    {
     "name": "stdout",
     "output_type": "stream",
     "text": [
      "[[0.         0.         0.         0.         0.         0.\n",
      "  0.         0.         0.         0.         0.         0.\n",
      "  0.         0.         0.         0.         0.         0.\n",
      "  0.         0.         0.         0.         0.         0.\n",
      "  0.         0.         0.         0.        ]\n",
      " [0.         0.         0.         0.         0.         0.\n",
      "  0.         0.         0.         0.         0.         0.\n",
      "  0.         0.         0.         0.         0.         0.\n",
      "  0.         0.         0.         0.         0.         0.\n",
      "  0.         0.         0.         0.        ]\n",
      " [0.         0.         0.         0.         0.         0.\n",
      "  0.         0.         0.         0.         0.         0.\n",
      "  0.         0.         0.         0.         0.         0.\n",
      "  0.         0.         0.         0.         0.         0.\n",
      "  0.         0.         0.         0.        ]\n",
      " [0.         0.         0.         0.         0.         0.\n",
      "  0.         0.         0.         0.         0.         0.\n",
      "  0.         0.         0.         0.         0.         0.\n",
      "  0.         0.         0.         0.         0.         0.\n",
      "  0.         0.         0.         0.        ]\n",
      " [0.         0.         0.         0.         0.         0.\n",
      "  0.         0.         0.         0.         0.         0.\n",
      "  0.         0.         0.         0.         0.         0.\n",
      "  0.         0.         0.         0.         0.         0.\n",
      "  0.         0.         0.         0.        ]\n",
      " [0.         0.         0.         0.         0.         0.\n",
      "  0.         0.         0.         0.         0.         0.\n",
      "  0.8666667  0.4509804  0.         0.         0.         0.\n",
      "  0.         0.         0.         0.         0.         0.\n",
      "  0.         0.         0.         0.        ]\n",
      " [0.         0.         0.         0.         0.         0.\n",
      "  0.         0.         0.         0.         0.         0.2\n",
      "  0.99607843 0.5803922  0.         0.         0.         0.\n",
      "  0.08627451 0.9019608  0.5254902  0.         0.         0.\n",
      "  0.         0.         0.         0.        ]\n",
      " [0.         0.         0.         0.         0.         0.\n",
      "  0.         0.         0.         0.         0.         0.65882355\n",
      "  0.99607843 0.4509804  0.         0.         0.         0.\n",
      "  0.09411765 0.99215686 0.72156864 0.         0.         0.\n",
      "  0.         0.         0.         0.        ]\n",
      " [0.         0.         0.         0.         0.         0.\n",
      "  0.         0.         0.         0.         0.2        0.91764706\n",
      "  0.99607843 0.31764707 0.         0.         0.         0.\n",
      "  0.35686275 0.99215686 0.72156864 0.         0.         0.\n",
      "  0.         0.         0.         0.        ]\n",
      " [0.         0.         0.         0.         0.         0.\n",
      "  0.         0.         0.         0.05098039 0.8666667  0.99607843\n",
      "  0.627451   0.         0.         0.         0.         0.\n",
      "  0.5529412  0.99607843 0.49803922 0.         0.         0.\n",
      "  0.         0.         0.         0.        ]\n",
      " [0.         0.         0.         0.         0.         0.\n",
      "  0.         0.         0.         0.44705883 0.99215686 0.99215686\n",
      "  0.29803923 0.         0.         0.         0.         0.\n",
      "  0.8117647  0.99215686 0.3647059  0.         0.         0.\n",
      "  0.         0.         0.         0.        ]\n",
      " [0.         0.         0.         0.         0.         0.\n",
      "  0.         0.         0.05882353 0.9098039  0.99215686 0.4\n",
      "  0.         0.         0.         0.         0.         0.\n",
      "  0.8117647  0.99215686 0.06666667 0.         0.         0.\n",
      "  0.         0.         0.         0.        ]\n",
      " [0.         0.         0.         0.         0.         0.\n",
      "  0.         0.         0.8980392  0.99215686 0.7921569  0.07450981\n",
      "  0.         0.         0.         0.         0.         0.13333334\n",
      "  0.9411765  0.99215686 0.         0.         0.         0.\n",
      "  0.         0.         0.         0.        ]\n",
      " [0.         0.         0.         0.         0.         0.\n",
      "  0.02745098 0.6666667  0.99607843 0.99607843 0.18039216 0.\n",
      "  0.         0.         0.         0.         0.         0.18431373\n",
      "  0.99607843 0.99607843 0.         0.         0.         0.\n",
      "  0.         0.         0.         0.        ]\n",
      " [0.         0.         0.         0.         0.         0.\n",
      "  0.09411765 0.99215686 0.99607843 0.99215686 0.91764706 0.6392157\n",
      "  0.18431373 0.18431373 0.10196079 0.         0.         0.50980395\n",
      "  0.99215686 0.99215686 0.         0.         0.         0.\n",
      "  0.         0.         0.         0.        ]\n",
      " [0.         0.         0.         0.         0.         0.\n",
      "  0.08235294 0.9647059  0.99607843 0.99215686 0.99215686 0.99215686\n",
      "  0.99607843 0.99215686 0.9098039  0.68235296 0.8156863  0.9098039\n",
      "  0.99215686 0.69411767 0.         0.         0.         0.\n",
      "  0.         0.         0.         0.        ]\n",
      " [0.         0.         0.         0.         0.         0.\n",
      "  0.         0.32941177 0.6313726  0.827451   0.85882354 0.85882354\n",
      "  0.99607843 0.99215686 0.99215686 0.99215686 0.99607843 0.99215686\n",
      "  0.95686275 0.27058825 0.         0.         0.         0.\n",
      "  0.         0.         0.         0.        ]\n",
      " [0.         0.         0.         0.         0.         0.\n",
      "  0.         0.         0.         0.         0.         0.\n",
      "  0.3647059  0.5568628  0.5568628  0.3647059  0.6666667  0.99607843\n",
      "  0.9019608  0.         0.         0.         0.         0.\n",
      "  0.         0.         0.         0.        ]\n",
      " [0.         0.         0.         0.         0.         0.\n",
      "  0.         0.         0.         0.         0.         0.\n",
      "  0.         0.         0.         0.         0.6        0.99215686\n",
      "  0.8352941  0.         0.         0.         0.         0.\n",
      "  0.         0.         0.         0.        ]\n",
      " [0.         0.         0.         0.         0.         0.\n",
      "  0.         0.         0.         0.         0.         0.\n",
      "  0.         0.         0.         0.         0.6666667  0.99215686\n",
      "  0.5372549  0.         0.         0.         0.         0.\n",
      "  0.         0.         0.         0.        ]\n",
      " [0.         0.         0.         0.         0.         0.\n",
      "  0.         0.         0.         0.         0.         0.\n",
      "  0.         0.         0.         0.         0.8627451  0.99215686\n",
      "  0.5372549  0.         0.         0.         0.         0.\n",
      "  0.         0.         0.         0.        ]\n",
      " [0.         0.         0.         0.         0.         0.\n",
      "  0.         0.         0.         0.         0.         0.\n",
      "  0.         0.         0.         0.23529412 1.         0.99607843\n",
      "  0.3137255  0.         0.         0.         0.         0.\n",
      "  0.         0.         0.         0.        ]\n",
      " [0.         0.         0.         0.         0.         0.\n",
      "  0.         0.         0.         0.         0.         0.\n",
      "  0.         0.         0.         0.3647059  0.99607843 0.99215686\n",
      "  0.18039216 0.         0.         0.         0.         0.\n",
      "  0.         0.         0.         0.        ]\n",
      " [0.         0.         0.         0.         0.         0.\n",
      "  0.         0.         0.         0.         0.         0.\n",
      "  0.         0.         0.         0.2        0.99607843 0.84313726\n",
      "  0.03529412 0.         0.         0.         0.         0.\n",
      "  0.         0.         0.         0.        ]\n",
      " [0.         0.         0.         0.         0.         0.\n",
      "  0.         0.         0.         0.         0.         0.\n",
      "  0.         0.         0.         0.         0.7294118  0.41568628\n",
      "  0.         0.         0.         0.         0.         0.\n",
      "  0.         0.         0.         0.        ]\n",
      " [0.         0.         0.         0.         0.         0.\n",
      "  0.         0.         0.         0.         0.         0.\n",
      "  0.         0.         0.         0.         0.         0.\n",
      "  0.         0.         0.         0.         0.         0.\n",
      "  0.         0.         0.         0.        ]\n",
      " [0.         0.         0.         0.         0.         0.\n",
      "  0.         0.         0.         0.         0.         0.\n",
      "  0.         0.         0.         0.         0.         0.\n",
      "  0.         0.         0.         0.         0.         0.\n",
      "  0.         0.         0.         0.        ]\n",
      " [0.         0.         0.         0.         0.         0.\n",
      "  0.         0.         0.         0.         0.         0.\n",
      "  0.         0.         0.         0.         0.         0.\n",
      "  0.         0.         0.         0.         0.         0.\n",
      "  0.         0.         0.         0.        ]]\n"
     ]
    }
   ],
   "source": [
    "#print(test_image)\n",
    "print(test_image)"
   ]
  },
  {
   "cell_type": "code",
   "execution_count": 16,
   "id": "3228e694",
   "metadata": {},
   "outputs": [],
   "source": [
    "def ReLU(x):\n",
    "    return x * (x > 0)"
   ]
  },
  {
   "cell_type": "code",
   "execution_count": 17,
   "id": "deb2b4d8",
   "metadata": {},
   "outputs": [
    {
     "name": "stdout",
     "output_type": "stream",
     "text": [
      "[-0.        -0.        -0.        -0.        10.180093   1.968227\n",
      "  1.7667334  1.2612114  2.9864855  6.0077295] (10,)\n"
     ]
    }
   ],
   "source": [
    "X = test_image.flatten()\n",
    "X1 = ReLU(np.matmul(A1, X) + B1)\n",
    "print(X1, X1.shape)"
   ]
  }
 ],
 "metadata": {
  "kernelspec": {
   "display_name": "Python 3",
   "language": "python",
   "name": "python3"
  },
  "language_info": {
   "codemirror_mode": {
    "name": "ipython",
    "version": 3
   },
   "file_extension": ".py",
   "mimetype": "text/x-python",
   "name": "python",
   "nbconvert_exporter": "python",
   "pygments_lexer": "ipython3",
   "version": "3.8.8"
  }
 },
 "nbformat": 4,
 "nbformat_minor": 5
}
