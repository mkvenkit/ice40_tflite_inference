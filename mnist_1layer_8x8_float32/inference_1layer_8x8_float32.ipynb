{
 "cells": [
  {
   "cell_type": "code",
   "execution_count": 2,
   "id": "49bdee57",
   "metadata": {},
   "outputs": [],
   "source": [
    "import numpy as np\n",
    "from matplotlib import pyplot as plt"
   ]
  },
  {
   "cell_type": "code",
   "execution_count": 4,
   "id": "e6ca2d60",
   "metadata": {},
   "outputs": [
    {
     "name": "stdout",
     "output_type": "stream",
     "text": [
      "(10, 64) (10,)\n",
      "(8, 8) float32\n"
     ]
    }
   ],
   "source": [
    "A1 = np.load('A.npy')\n",
    "B1 = np.load('B.npy')\n",
    "test_image = np.load('test_image_label_27_8x8.npy')\n",
    "print(A1.shape, B1.shape)\n",
    "print(test_image.shape, test_image.dtype)"
   ]
  },
  {
   "cell_type": "code",
   "execution_count": 5,
   "id": "25b40a2c",
   "metadata": {},
   "outputs": [
    {
     "name": "stdout",
     "output_type": "stream",
     "text": [
      "[ 0.26404563 -0.0200938  -0.16515577  0.11020239 -0.30242696]\n",
      "[-0.15393086  3.1967602  -0.0605489  -0.1000002  -0.150798  ]\n"
     ]
    }
   ],
   "source": [
    "print(A1.flatten()[0:5])\n",
    "print(B1[0:5])"
   ]
  },
  {
   "cell_type": "markdown",
   "id": "7d05b19d",
   "metadata": {},
   "source": [
    "For index 27, the expected label is 4. Here's the expected tensor output obtained by running the TFLite interpretor: \n",
    "\n",
    "```\n",
    "test_model(tflite_model_file, 27, model_type=\"Float\")\n",
    "```\n",
    "\n",
    "The same result from running TFLite Interpretor on the float32 model:\n",
    "\n",
    "**[0.       0.       0.       0.       0.       0.       0.       0.\n",
    " 0.       0.672785]**"
   ]
  },
  {
   "cell_type": "code",
   "execution_count": 6,
   "id": "41d6d563",
   "metadata": {},
   "outputs": [
    {
     "data": {
      "image/png": "[encoded data removed]",
      "text/plain": [
       "<Figure size 432x288 with 1 Axes>"
      ]
     },
     "metadata": {
      "needs_background": "light"
     },
     "output_type": "display_data"
    }
   ],
   "source": [
    "plt.imshow(test_image)\n",
    "plt.show()"
   ]
  },
  {
   "cell_type": "code",
   "execution_count": 7,
   "id": "4ced4c2b",
   "metadata": {},
   "outputs": [
    {
     "name": "stdout",
     "output_type": "stream",
     "text": [
      "[[0.         0.         0.         0.         0.         0.\n",
      "  0.         0.        ]\n",
      " [0.         0.         0.         0.48749998 0.         0.\n",
      "  0.         0.        ]\n",
      " [0.         0.         0.00318627 0.9122549  0.         0.8463235\n",
      "  0.         0.        ]\n",
      " [0.         0.         0.7590686  0.03897059 0.         0.97132355\n",
      "  0.         0.        ]\n",
      " [0.         0.         0.9164216  0.9867647  0.7850491  0.6870098\n",
      "  0.         0.        ]\n",
      " [0.         0.         0.         0.         0.16250001 0.15294118\n",
      "  0.         0.        ]\n",
      " [0.         0.         0.         0.         0.49166667 0.03602941\n",
      "  0.         0.        ]\n",
      " [0.         0.         0.         0.         0.         0.\n",
      "  0.         0.        ]]\n"
     ]
    }
   ],
   "source": [
    "#print(test_image)\n",
    "print(test_image)"
   ]
  },
  {
   "cell_type": "code",
   "execution_count": 8,
   "id": "3228e694",
   "metadata": {},
   "outputs": [],
   "source": [
    "def ReLU(x):\n",
    "    return x * (x > 0)"
   ]
  },
  {
   "cell_type": "code",
   "execution_count": 9,
   "id": "deb2b4d8",
   "metadata": {},
   "outputs": [
    {
     "name": "stdout",
     "output_type": "stream",
     "text": [
      "[-0.         -0.         -0.         -0.         -0.         -0.\n",
      " -0.         -0.         -0.          0.67278486] (10,)\n"
     ]
    }
   ],
   "source": [
    "X = test_image.flatten()\n",
    "X1 = ReLU(np.matmul(A1, X) + B1)\n",
    "print(X1, X1.shape)"
   ]
  },
  {
   "cell_type": "code",
   "execution_count": null,
   "id": "802233cb",
   "metadata": {},
   "outputs": [],
   "source": []
  }
 ],
 "metadata": {
  "kernelspec": {
   "display_name": "Python 3",
   "language": "python",
   "name": "python3"
  },
  "language_info": {
   "codemirror_mode": {
    "name": "ipython",
    "version": 3
   },
   "file_extension": ".py",
   "mimetype": "text/x-python",
   "name": "python",
   "nbconvert_exporter": "python",
   "pygments_lexer": "ipython3",
   "version": "3.8.8"
  }
 },
 "nbformat": 4,
 "nbformat_minor": 5
}
