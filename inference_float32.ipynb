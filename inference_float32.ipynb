{
 "cells": [
  {
   "cell_type": "code",
   "execution_count": 26,
   "id": "49bdee57",
   "metadata": {},
   "outputs": [],
   "source": [
    "import numpy as np\n",
    "from matplotlib import pyplot as plt"
   ]
  },
  {
   "cell_type": "code",
   "execution_count": 27,
   "id": "e6ca2d60",
   "metadata": {},
   "outputs": [
    {
     "name": "stdout",
     "output_type": "stream",
     "text": [
      "(128, 784) (128,)\n",
      "(10, 128) (10,)\n",
      "(28, 28) float32\n"
     ]
    }
   ],
   "source": [
    "A1 = np.load('mnist_float32/sequential_1_dense_1_MatMul.npy')\n",
    "B1 = np.load('mnist_float32/dense_1_bias.npy')\n",
    "A2 = np.load('mnist_float32/sequential_1_dense_2_MatMul.npy')\n",
    "B2 = np.load('mnist_float32/dense_2_bias.npy')\n",
    "test_image = np.load('test_image_label_27.npy')\n",
    "print(A1.shape, B1.shape)\n",
    "print(A2.shape, B2.shape)\n",
    "print(test_image.shape, test_image.dtype)"
   ]
  },
  {
   "cell_type": "code",
   "execution_count": 28,
   "id": "25b40a2c",
   "metadata": {},
   "outputs": [
    {
     "name": "stdout",
     "output_type": "stream",
     "text": [
      "[ 0.0491386  -0.03703919 -0.02769626 -0.05841282  0.05449576]\n",
      "[-0.06567852  0.13846287 -0.06368221  0.01163622  0.10017338]\n"
     ]
    }
   ],
   "source": [
    "print(A1.flatten()[0:5])\n",
    "print(B1[0:5])"
   ]
  },
  {
   "cell_type": "markdown",
   "id": "7d05b19d",
   "metadata": {},
   "source": [
    "For index 27, the expected label is 4. Here's the expected tensor output obtained by running the TFLite interpretor: \n",
    "\n",
    "```\n",
    "test_model(tflite_model_file, 27, model_type=\"Float\")\n",
    "```\n",
    "\n",
    "**[-13.089978   -8.978213   -8.512205   -6.994018   13.381388   -6.6630683\n",
    " -11.334353   -3.0743856  -8.96207     2.6339076]**"
   ]
  },
  {
   "cell_type": "code",
   "execution_count": 29,
   "id": "41d6d563",
   "metadata": {},
   "outputs": [
    {
     "data": {
      "image/png": "[encoded data removed]",
      "text/plain": [
       "<Figure size 432x288 with 1 Axes>"
      ]
     },
     "metadata": {
      "needs_background": "light"
     },
     "output_type": "display_data"
    }
   ],
   "source": [
    "plt.imshow(test_image)\n",
    "plt.show()"
   ]
  },
  {
   "cell_type": "code",
   "execution_count": 30,
   "id": "4ced4c2b",
   "metadata": {},
   "outputs": [
    {
     "name": "stdout",
     "output_type": "stream",
     "text": [
      "[[0.         0.         0.         0.         0.         0.\n",
      "  0.         0.         0.         0.         0.         0.\n",
      "  0.         0.         0.         0.         0.         0.\n",
      "  0.         0.         0.         0.         0.         0.\n",
      "  0.         0.         0.         0.        ]\n",
      " [0.         0.         0.         0.         0.         0.\n",
      "  0.         0.         0.         0.         0.         0.\n",
      "  0.         0.         0.         0.         0.         0.\n",
      "  0.         0.         0.         0.         0.         0.\n",
      "  0.         0.         0.         0.        ]\n",
      " [0.         0.         0.         0.         0.         0.\n",
      "  0.         0.         0.         0.         0.         0.\n",
      "  0.         0.         0.         0.         0.         0.\n",
      "  0.         0.         0.         0.         0.         0.\n",
      "  0.         0.         0.         0.        ]\n",
      " [0.         0.         0.         0.         0.         0.\n",
      "  0.         0.         0.         0.         0.         0.\n",
      "  0.         0.         0.         0.         0.         0.\n",
      "  0.         0.         0.         0.         0.         0.\n",
      "  0.         0.         0.         0.        ]\n",
      " [0.         0.         0.         0.         0.         0.\n",
      "  0.         0.         0.         0.         0.         0.\n",
      "  0.         0.         0.         0.         0.         0.\n",
      "  0.         0.         0.         0.         0.         0.\n",
      "  0.         0.         0.         0.        ]\n",
      " [0.         0.         0.         0.         0.         0.\n",
      "  0.         0.         0.         0.         0.         0.\n",
      "  0.8666667  0.4509804  0.         0.         0.         0.\n",
      "  0.         0.         0.         0.         0.         0.\n",
      "  0.         0.         0.         0.        ]\n",
      " [0.         0.         0.         0.         0.         0.\n",
      "  0.         0.         0.         0.         0.         0.2\n",
      "  0.99607843 0.5803922  0.         0.         0.         0.\n",
      "  0.08627451 0.9019608  0.5254902  0.         0.         0.\n",
      "  0.         0.         0.         0.        ]\n",
      " [0.         0.         0.         0.         0.         0.\n",
      "  0.         0.         0.         0.         0.         0.65882355\n",
      "  0.99607843 0.4509804  0.         0.         0.         0.\n",
      "  0.09411765 0.99215686 0.72156864 0.         0.         0.\n",
      "  0.         0.         0.         0.        ]\n",
      " [0.         0.         0.         0.         0.         0.\n",
      "  0.         0.         0.         0.         0.2        0.91764706\n",
      "  0.99607843 0.31764707 0.         0.         0.         0.\n",
      "  0.35686275 0.99215686 0.72156864 0.         0.         0.\n",
      "  0.         0.         0.         0.        ]\n",
      " [0.         0.         0.         0.         0.         0.\n",
      "  0.         0.         0.         0.05098039 0.8666667  0.99607843\n",
      "  0.627451   0.         0.         0.         0.         0.\n",
      "  0.5529412  0.99607843 0.49803922 0.         0.         0.\n",
      "  0.         0.         0.         0.        ]\n",
      " [0.         0.         0.         0.         0.         0.\n",
      "  0.         0.         0.         0.44705883 0.99215686 0.99215686\n",
      "  0.29803923 0.         0.         0.         0.         0.\n",
      "  0.8117647  0.99215686 0.3647059  0.         0.         0.\n",
      "  0.         0.         0.         0.        ]\n",
      " [0.         0.         0.         0.         0.         0.\n",
      "  0.         0.         0.05882353 0.9098039  0.99215686 0.4\n",
      "  0.         0.         0.         0.         0.         0.\n",
      "  0.8117647  0.99215686 0.06666667 0.         0.         0.\n",
      "  0.         0.         0.         0.        ]\n",
      " [0.         0.         0.         0.         0.         0.\n",
      "  0.         0.         0.8980392  0.99215686 0.7921569  0.07450981\n",
      "  0.         0.         0.         0.         0.         0.13333334\n",
      "  0.9411765  0.99215686 0.         0.         0.         0.\n",
      "  0.         0.         0.         0.        ]\n",
      " [0.         0.         0.         0.         0.         0.\n",
      "  0.02745098 0.6666667  0.99607843 0.99607843 0.18039216 0.\n",
      "  0.         0.         0.         0.         0.         0.18431373\n",
      "  0.99607843 0.99607843 0.         0.         0.         0.\n",
      "  0.         0.         0.         0.        ]\n",
      " [0.         0.         0.         0.         0.         0.\n",
      "  0.09411765 0.99215686 0.99607843 0.99215686 0.91764706 0.6392157\n",
      "  0.18431373 0.18431373 0.10196079 0.         0.         0.50980395\n",
      "  0.99215686 0.99215686 0.         0.         0.         0.\n",
      "  0.         0.         0.         0.        ]\n",
      " [0.         0.         0.         0.         0.         0.\n",
      "  0.08235294 0.9647059  0.99607843 0.99215686 0.99215686 0.99215686\n",
      "  0.99607843 0.99215686 0.9098039  0.68235296 0.8156863  0.9098039\n",
      "  0.99215686 0.69411767 0.         0.         0.         0.\n",
      "  0.         0.         0.         0.        ]\n",
      " [0.         0.         0.         0.         0.         0.\n",
      "  0.         0.32941177 0.6313726  0.827451   0.85882354 0.85882354\n",
      "  0.99607843 0.99215686 0.99215686 0.99215686 0.99607843 0.99215686\n",
      "  0.95686275 0.27058825 0.         0.         0.         0.\n",
      "  0.         0.         0.         0.        ]\n",
      " [0.         0.         0.         0.         0.         0.\n",
      "  0.         0.         0.         0.         0.         0.\n",
      "  0.3647059  0.5568628  0.5568628  0.3647059  0.6666667  0.99607843\n",
      "  0.9019608  0.         0.         0.         0.         0.\n",
      "  0.         0.         0.         0.        ]\n",
      " [0.         0.         0.         0.         0.         0.\n",
      "  0.         0.         0.         0.         0.         0.\n",
      "  0.         0.         0.         0.         0.6        0.99215686\n",
      "  0.8352941  0.         0.         0.         0.         0.\n",
      "  0.         0.         0.         0.        ]\n",
      " [0.         0.         0.         0.         0.         0.\n",
      "  0.         0.         0.         0.         0.         0.\n",
      "  0.         0.         0.         0.         0.6666667  0.99215686\n",
      "  0.5372549  0.         0.         0.         0.         0.\n",
      "  0.         0.         0.         0.        ]\n",
      " [0.         0.         0.         0.         0.         0.\n",
      "  0.         0.         0.         0.         0.         0.\n",
      "  0.         0.         0.         0.         0.8627451  0.99215686\n",
      "  0.5372549  0.         0.         0.         0.         0.\n",
      "  0.         0.         0.         0.        ]\n",
      " [0.         0.         0.         0.         0.         0.\n",
      "  0.         0.         0.         0.         0.         0.\n",
      "  0.         0.         0.         0.23529412 1.         0.99607843\n",
      "  0.3137255  0.         0.         0.         0.         0.\n",
      "  0.         0.         0.         0.        ]\n",
      " [0.         0.         0.         0.         0.         0.\n",
      "  0.         0.         0.         0.         0.         0.\n",
      "  0.         0.         0.         0.3647059  0.99607843 0.99215686\n",
      "  0.18039216 0.         0.         0.         0.         0.\n",
      "  0.         0.         0.         0.        ]\n",
      " [0.         0.         0.         0.         0.         0.\n",
      "  0.         0.         0.         0.         0.         0.\n",
      "  0.         0.         0.         0.2        0.99607843 0.84313726\n",
      "  0.03529412 0.         0.         0.         0.         0.\n",
      "  0.         0.         0.         0.        ]\n",
      " [0.         0.         0.         0.         0.         0.\n",
      "  0.         0.         0.         0.         0.         0.\n",
      "  0.         0.         0.         0.         0.7294118  0.41568628\n",
      "  0.         0.         0.         0.         0.         0.\n",
      "  0.         0.         0.         0.        ]\n",
      " [0.         0.         0.         0.         0.         0.\n",
      "  0.         0.         0.         0.         0.         0.\n",
      "  0.         0.         0.         0.         0.         0.\n",
      "  0.         0.         0.         0.         0.         0.\n",
      "  0.         0.         0.         0.        ]\n",
      " [0.         0.         0.         0.         0.         0.\n",
      "  0.         0.         0.         0.         0.         0.\n",
      "  0.         0.         0.         0.         0.         0.\n",
      "  0.         0.         0.         0.         0.         0.\n",
      "  0.         0.         0.         0.        ]\n",
      " [0.         0.         0.         0.         0.         0.\n",
      "  0.         0.         0.         0.         0.         0.\n",
      "  0.         0.         0.         0.         0.         0.\n",
      "  0.         0.         0.         0.         0.         0.\n",
      "  0.         0.         0.         0.        ]]\n"
     ]
    }
   ],
   "source": [
    "#print(test_image)\n",
    "print(test_image)"
   ]
  },
  {
   "cell_type": "code",
   "execution_count": 31,
   "id": "3228e694",
   "metadata": {},
   "outputs": [],
   "source": [
    "def ReLU(x):\n",
    "    return x * (x > 0)"
   ]
  },
  {
   "cell_type": "code",
   "execution_count": 32,
   "id": "deb2b4d8",
   "metadata": {},
   "outputs": [
    {
     "name": "stdout",
     "output_type": "stream",
     "text": [
      "[-0.         -0.          1.2930983  -0.          3.661437    0.51074487\n",
      " -0.         -0.         -0.          2.4868505   1.0581362  -0.\n",
      "  2.0740378  -0.         -0.         -0.         -0.          0.58377826\n",
      " -0.          2.2729173  -0.         -0.          1.5046257  -0.\n",
      "  1.197472   -0.          1.9579562  -0.         -0.          2.9273798\n",
      " -0.         -0.         -0.          1.8213584   0.11645561  2.494976\n",
      " -0.          0.57651776 -0.         -0.          0.34691343  0.74767464\n",
      "  0.12566558  3.27794     1.9157474  -0.         -0.         -0.\n",
      "  4.2646685   1.280635    2.3956647  -0.         -0.          0.6198743\n",
      "  0.54031783 -0.         -0.         -0.         -0.          0.67471796\n",
      " -0.          1.7010128  -0.          2.8753843  -0.          1.1004485\n",
      " -0.         -0.         -0.         -0.         -0.         -0.\n",
      "  0.19657335 -0.         -0.         -0.         -0.          3.359786\n",
      "  2.2787862   2.0925064   1.0966914   0.13870227 -0.         -0.\n",
      "  3.0983274  -0.          2.9251757  -0.          2.0773675   0.01406816\n",
      " -0.          3.3500948   1.9431663  -0.          1.2469707   5.338757\n",
      "  1.8352462   3.8485403  -0.          2.5973153  -0.         -0.\n",
      " -0.         -0.         -0.         -0.          1.3042424  -0.\n",
      " -0.         -0.          4.72466     1.8930598  -0.          2.527986\n",
      "  1.8094327  -0.         -0.          0.2559303  -0.         -0.\n",
      "  2.830614    0.66984135 -0.         -0.         -0.         -0.\n",
      "  2.0080338   0.6868652 ] (128,)\n"
     ]
    }
   ],
   "source": [
    "X = test_image.flatten()\n",
    "X1 = ReLU(np.matmul(A1, X) + B1)\n",
    "print(X1, X1.shape)"
   ]
  },
  {
   "cell_type": "code",
   "execution_count": 33,
   "id": "783f184f",
   "metadata": {},
   "outputs": [
    {
     "name": "stdout",
     "output_type": "stream",
     "text": [
      "[-13.089977   -8.978212   -8.512204   -6.994018   13.381387   -6.663069\n",
      " -11.334356   -3.074383   -8.962071    2.6339078] (10,)\n",
      "4\n"
     ]
    }
   ],
   "source": [
    "X2 = np.matmul(A2, X1) + B2\n",
    "print(X2, X2.shape)\n",
    "print(X2.argmax())"
   ]
  }
 ],
 "metadata": {
  "kernelspec": {
   "display_name": "Python 3",
   "language": "python",
   "name": "python3"
  },
  "language_info": {
   "codemirror_mode": {
    "name": "ipython",
    "version": 3
   },
   "file_extension": ".py",
   "mimetype": "text/x-python",
   "name": "python",
   "nbconvert_exporter": "python",
   "pygments_lexer": "ipython3",
   "version": "3.8.8"
  }
 },
 "nbformat": 4,
 "nbformat_minor": 5
}
