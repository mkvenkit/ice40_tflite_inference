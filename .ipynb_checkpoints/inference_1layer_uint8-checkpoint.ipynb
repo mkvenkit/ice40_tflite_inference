{
 "cells": [
  {
   "cell_type": "code",
   "execution_count": 49,
   "id": "2d370fb6",
   "metadata": {},
   "outputs": [],
   "source": [
    "import numpy as np\n",
    "from matplotlib import pyplot as plt"
   ]
  },
  {
   "cell_type": "markdown",
   "id": "0b2822e7",
   "metadata": {},
   "source": [
    "We're going to use the 1 layer model shown below.\n",
    "\n",
    "![1 Layer](1layer.png)"
   ]
  },
  {
   "cell_type": "code",
   "execution_count": 50,
   "id": "9b5d70ec",
   "metadata": {},
   "outputs": [
    {
     "name": "stdout",
     "output_type": "stream",
     "text": [
      "(10, 784) (10,)\n",
      "(28, 28) float32\n"
     ]
    }
   ],
   "source": [
    "A1 = np.load('mnist_1layer_uint8/A1.npy')\n",
    "B1 = np.load('mnist_1layer_uint8/B1.npy')\n",
    "test_image = np.load('test_image_label_27.npy')\n",
    "print(A1.shape, B1.shape)\n",
    "print(test_image.shape, test_image.dtype)"
   ]
  },
  {
   "cell_type": "code",
   "execution_count": 51,
   "id": "2e5a7b30",
   "metadata": {},
   "outputs": [
    {
     "name": "stdout",
     "output_type": "stream",
     "text": [
      "[-0.03543   0.03543  -0.028344  0.042516  0.007086]\n",
      "[-0.072576 -0.012152  0.101808 -0.069524  0.150612]\n"
     ]
    }
   ],
   "source": [
    "print(0.007086 * A1.flatten()[0:5])\n",
    "print(0.000028 *B1[0:5])"
   ]
  },
  {
   "cell_type": "markdown",
   "id": "6c19a8e6",
   "metadata": {},
   "source": [
    "For index 27, the expected label is 4. Here's the expected tensor output, obtained by running the TFLite Interpretor on the same test image:\n",
    "\n",
    "**[  0   0   0   0 130  25  23  17  38  77]**\n",
    "\n",
    "The same result from running TFLite Interpretor on the float32 model:\n",
    "\n",
    "**[ 0.         0.         0.         0.        10.18009    1.9682264\n",
    "  1.7667338  1.2612104  2.9864843  6.0077305]**"
   ]
  },
  {
   "cell_type": "code",
   "execution_count": 52,
   "id": "aedfab9a",
   "metadata": {},
   "outputs": [
    {
     "data": {
      "image/png": "[encoded data removed]",
      "text/plain": [
       "<Figure size 432x288 with 1 Axes>"
      ]
     },
     "metadata": {
      "needs_background": "light"
     },
     "output_type": "display_data"
    }
   ],
   "source": [
    "plt.imshow(test_image)\n",
    "plt.show()"
   ]
  },
  {
   "cell_type": "code",
   "execution_count": 53,
   "id": "eeab3837",
   "metadata": {},
   "outputs": [],
   "source": [
    "#print(test_image)\n",
    "#print(test_image_uint8)"
   ]
  },
  {
   "cell_type": "code",
   "execution_count": 54,
   "id": "c561bb43",
   "metadata": {},
   "outputs": [],
   "source": [
    "def ReLU(x):\n",
    "    return x * (x > 0)"
   ]
  },
  {
   "cell_type": "markdown",
   "id": "a5cd2830",
   "metadata": {},
   "source": [
    "Now test the inference by converting weights to float using the quantization parameters in the file."
   ]
  },
  {
   "cell_type": "code",
   "execution_count": 55,
   "id": "b7044ccc",
   "metadata": {},
   "outputs": [
    {
     "name": "stdout",
     "output_type": "stream",
     "text": [
      "[-0.         -0.         -0.         -0.         10.10968199  1.97744403\n",
      "  1.76044303  1.31551931  2.9919664   5.98615422] (10,)\n",
      "argmax: 4\n",
      "[  0   0   0   0 130  25  22  16  38  76]\n"
     ]
    }
   ],
   "source": [
    "X = test_image.flatten()\n",
    "#X = 0.003921568859368563 * q\n",
    "#X = 0.003921568859368563 * (q + 128)\n",
    "\n",
    "qa1 = 0.011801077052950859\n",
    "qb1 = 0.000046278735680971295 \n",
    "X1 = np.matmul(A1*qa1, X) + B1*qb1\n",
    "X1 = ReLU(X1)\n",
    "# X1 = 0.07775364816188812 * (X1 + 128)\n",
    "#  0.07775364816188812 * q\n",
    "\n",
    "print(X1, X1.shape)\n",
    "print(\"argmax: {}\".format(np.argmax(X1)))\n",
    "\n",
    "X1_uint8 = np.array(X1 / 0.07775364816188812, dtype=np.uint8)\n",
    "print(X1_uint8)"
   ]
  },
  {
   "cell_type": "markdown",
   "id": "ca76fca9",
   "metadata": {},
   "source": [
    "This matches with the FTlite interpretor output on the same data.\n",
    "\n",
    "Now let's run this using integer math."
   ]
  },
  {
   "cell_type": "code",
   "execution_count": 60,
   "id": "490a01d3",
   "metadata": {},
   "outputs": [
    {
     "name": "stdout",
     "output_type": "stream",
     "text": [
      "[ -2523   -253   3792  -2430   5499  19231   2080  11445 -17382   -715]\n",
      "[-128.01772146 -128.00177706 -127.97336512 -128.01706824 -127.96137521\n",
      " -127.86492212 -127.98539015 -127.91961072 -128.12209056 -128.00502214]\n"
     ]
    }
   ],
   "source": [
    "X = test_image.flatten()\n",
    "X = np.array(X / 0.003921568859368563, dtype=np.uint8)\n",
    "#X = X + 128\n",
    "#print(X)\n",
    "\n",
    "A1 = np.array(A1, dtype=np.uint8)\n",
    "B1 = np.array(B1, dtype=np.uint32)\n",
    "X1 = np.array(np.matmul(A1, X) + B1, dtype=np.int32)\n",
    "print(X1)\n",
    "S1 = 0.011801077052950859\n",
    "S2 = 0.000046278735680971295\n",
    "Z2 = -128\n",
    "S3 = 0.07775364816188812\n",
    "Z3 = -128\n",
    "M = S1*S2/S3\n",
    "X1_r = S*X1 + Z3\n",
    "print(X1_r)"
   ]
  },
  {
   "cell_type": "code",
   "execution_count": 57,
   "id": "80794a89",
   "metadata": {},
   "outputs": [
    {
     "data": {
      "text/plain": [
       "4.627873627786102e-05"
      ]
     },
     "execution_count": 57,
     "metadata": {},
     "output_type": "execute_result"
    }
   ],
   "source": [
    "0.003921568859368563 * 0.011801077052950859 "
   ]
  },
  {
   "cell_type": "code",
   "execution_count": null,
   "id": "5d31181f",
   "metadata": {},
   "outputs": [],
   "source": []
  }
 ],
 "metadata": {
  "kernelspec": {
   "display_name": "Python 3",
   "language": "python",
   "name": "python3"
  },
  "language_info": {
   "codemirror_mode": {
    "name": "ipython",
    "version": 3
   },
   "file_extension": ".py",
   "mimetype": "text/x-python",
   "name": "python",
   "nbconvert_exporter": "python",
   "pygments_lexer": "ipython3",
   "version": "3.8.8"
  }
 },
 "nbformat": 4,
 "nbformat_minor": 5
}
