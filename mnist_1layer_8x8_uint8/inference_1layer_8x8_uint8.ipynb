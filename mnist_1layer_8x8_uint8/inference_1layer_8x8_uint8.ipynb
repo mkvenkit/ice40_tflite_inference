{
 "cells": [
  {
   "cell_type": "code",
   "execution_count": 113,
   "id": "2d370fb6",
   "metadata": {},
   "outputs": [],
   "source": [
    "import numpy as np\n",
    "from matplotlib import pyplot as plt"
   ]
  },
  {
   "cell_type": "markdown",
   "id": "0b2822e7",
   "metadata": {},
   "source": [
    "We're going to use the 1 layer model shown below. It reduces the MNIST 28 x 28 inout to 8 x 8.\n",
    "\n",
    "![1 Layer](1layer.png)"
   ]
  },
  {
   "cell_type": "code",
   "execution_count": 114,
   "id": "9b5d70ec",
   "metadata": {},
   "outputs": [
    {
     "name": "stdout",
     "output_type": "stream",
     "text": [
      "(10, 64) int8\n",
      "(10,) int32\n",
      "(8, 8) float32\n"
     ]
    }
   ],
   "source": [
    "A = np.load('A.npy')\n",
    "B = np.load('B.npy')\n",
    "test_image = np.load('test_image_label_27_8x8.npy')\n",
    "print(A.shape, A.dtype)\n",
    "print(B.shape, B.dtype)\n",
    "print(test_image.shape, test_image.dtype)"
   ]
  },
  {
   "cell_type": "code",
   "execution_count": 115,
   "id": "2e5a7b30",
   "metadata": {},
   "outputs": [
    {
     "name": "stdout",
     "output_type": "stream",
     "text": [
      "[ 0.03540323  0.         -0.02360215  0.01180108 -0.04720431]\n",
      "[-0.02179728  0.45218953 -0.00856157 -0.01416129 -0.0213345 ]\n"
     ]
    }
   ],
   "source": [
    "print(0.011801077052950859 * A.flatten()[0:5])\n",
    "print(0.000046278735680971295 *B[0:5])"
   ]
  },
  {
   "cell_type": "markdown",
   "id": "6c19a8e6",
   "metadata": {},
   "source": [
    "For index 27, the expected label is 4. Here's the expected tensor output, obtained by running the TFLite Interpretor on the same test image:\n",
    "\n",
    "**[ 0  0  0  0  0  0  0  0  0 14]**\n",
    "\n",
    "The same result from running TFLite Interpretor on the float32 model:\n",
    "\n",
    "**[0.       0.       0.       0.       0.       0.       0.       0.\n",
    " 0.       0.672785]**"
   ]
  },
  {
   "cell_type": "code",
   "execution_count": 116,
   "id": "aedfab9a",
   "metadata": {},
   "outputs": [
    {
     "data": {
      "image/png": "[encoded data removed]",
      "text/plain": [
       "<Figure size 432x288 with 1 Axes>"
      ]
     },
     "metadata": {
      "needs_background": "light"
     },
     "output_type": "display_data"
    }
   ],
   "source": [
    "plt.imshow(test_image)\n",
    "plt.show()"
   ]
  },
  {
   "cell_type": "code",
   "execution_count": 117,
   "id": "eeab3837",
   "metadata": {},
   "outputs": [],
   "source": [
    "#print(test_image)\n",
    "#print(test_image_uint8)"
   ]
  },
  {
   "cell_type": "code",
   "execution_count": 118,
   "id": "c561bb43",
   "metadata": {},
   "outputs": [],
   "source": [
    "def ReLU(x):\n",
    "    return x * (x > 0)"
   ]
  },
  {
   "cell_type": "markdown",
   "id": "a5cd2830",
   "metadata": {},
   "source": [
    "Here are the scales:"
   ]
  },
  {
   "cell_type": "code",
   "execution_count": 160,
   "id": "d4f3bba3",
   "metadata": {},
   "outputs": [
    {
     "name": "stdout",
     "output_type": "stream",
     "text": [
      "0.00032715346480640187\n"
     ]
    }
   ],
   "source": [
    "# scales \n",
    "S1 = 0.08342412859201431\n",
    "S2 = 0.003921568859368563\n",
    "S3 = S1*S2\n",
    "Z2 = -128\n",
    "Z3 = 0\n",
    "S4 = 0.04645484685897827 \n",
    "Z4 = -128\n",
    "# confirm that S3 = S1*S2\n",
    "print(0.08342412859201431*0.003921568859368563)"
   ]
  },
  {
   "cell_type": "markdown",
   "id": "45fbe672",
   "metadata": {},
   "source": [
    "Now test the inference by converting weights to float using the quantization parameters in the file."
   ]
  },
  {
   "cell_type": "code",
   "execution_count": 158,
   "id": "b7044ccc",
   "metadata": {},
   "outputs": [
    {
     "name": "stdout",
     "output_type": "stream",
     "text": [
      "[ -0.83851474 -19.45738979  -3.96955709  -0.95541077  -0.79326534\n",
      "  -4.11794186  -5.06656371  -4.11967976  -2.02366908   0.6368044 ]\n",
      "[-0.        -0.        -0.        -0.        -0.        -0.\n",
      " -0.        -0.        -0.         0.6368044] (10,)\n",
      "argmax: 9\n",
      "[ 0  0  0  0  0  0  0  0  0 13]\n"
     ]
    }
   ],
   "source": [
    "X = test_image.flatten()\n",
    "X1 = np.matmul(S1*A, X) + S1*S2*B\n",
    "print(X1)\n",
    "X1 = ReLU(X1)\n",
    "print(X1, X1.shape)\n",
    "print(\"argmax: {}\".format(np.argmax(X1)))\n",
    "X1_uint8 = np.array(X1 / 0.04645484685897827, dtype=np.uint8)\n",
    "print(X1_uint8)"
   ]
  },
  {
   "cell_type": "markdown",
   "id": "ca76fca9",
   "metadata": {},
   "source": [
    "This matches with the TFlite interpretor output on the same data.\n",
    "\n",
    "Now let's run this using integer math."
   ]
  },
  {
   "cell_type": "code",
   "execution_count": 161,
   "id": "490a01d3",
   "metadata": {},
   "outputs": [
    {
     "name": "stdout",
     "output_type": "stream",
     "text": [
      "int8 int32\n",
      "[ -2085  -3445 -11872  -2607  -1951 -16246 -16991 -16420  -1122    637]\n",
      "[ -2556 -59210 -12057  -2913  -2412 -12573 -15418 -12536  -6209   1961]\n",
      "[ -0.83620426 -19.37075665  -3.94448933  -0.95299804  -0.78909416\n",
      "  -4.11330051  -5.04405212  -4.10119583  -2.03129586   0.64154794]\n",
      "[-0.         -0.         -0.         -0.         -0.         -0.\n",
      " -0.         -0.         -0.          0.64154794]\n",
      "[-0.         -0.         -0.         -0.         -0.         -0.\n",
      " -0.         -0.         -0.         13.81014012]\n"
     ]
    }
   ],
   "source": [
    "Xq = np.array(X/S2, dtype=np.uint8)\n",
    "#print(Xq)\n",
    "print(A.dtype, B.dtype)\n",
    "X1 = np.zeros(B.shape, dtype=np.int32)\n",
    "X1 += np.matmul(A.astype(np.int32), Xq)\n",
    "X1 += B\n",
    "print(np.matmul(A, Xq))\n",
    "print(X1)\n",
    "print(S1*S2*X1)\n",
    "#print((S1*S2*X1/S4).astype(np.int8))\n",
    "#print(np.clip((S1*S2*X1/S4).astype(np.int8), 0, 255))\n",
    "print(ReLU(S1*S2*X1))\n",
    "print(ReLU(S1*S2*X1)/S4)"
   ]
  },
  {
   "cell_type": "code",
   "execution_count": 124,
   "id": "05195e1a",
   "metadata": {},
   "outputs": [
    {
     "name": "stdout",
     "output_type": "stream",
     "text": [
      "[  0.           0.           0.           0.           0.\n",
      "   0.           0.           0.           0.           0.\n",
      "   0.         124.312485     0.           0.           0.\n",
      "   0.           0.           0.           0.81249994 232.625\n",
      "   0.         215.81248      0.           0.           0.\n",
      "   0.         193.56248      9.9375       0.         247.68748\n",
      "   0.           0.           0.           0.         233.68748\n",
      " 251.62498    200.1875     175.18748      0.           0.\n",
      "   0.           0.           0.           0.          41.4375\n",
      "  39.           0.           0.           0.           0.\n",
      "   0.           0.         125.37499      9.1875       0.\n",
      "   0.           0.           0.           0.           0.\n",
      "   0.           0.           0.           0.        ]\n",
      "[ -2092.0625 -69245.805  -11948.625   -2614.375   -1963.75   -16260.1875\n",
      " -17059.81   -16476.5     -1098.6862    622.5005]\n",
      "[ -2563.0625     -59474.8046875  -12133.625       -2920.375\n",
      "  -2424.75       -12587.1875     -15486.81054688 -12592.5\n",
      "  -6185.68615723   1946.50048828]\n",
      "[ -0.83851478 -19.45738842  -3.96955746  -0.9554108   -0.79326536\n",
      "  -4.117942    -5.06656373  -4.11968001  -2.02366866   0.63680438]\n",
      "[-0.         -0.         -0.         -0.         -0.         -0.\n",
      " -0.         -0.         -0.          0.63680438]\n",
      "[-0.         -0.         -0.         -0.         -0.         -0.\n",
      " -0.         -0.         -0.         13.70802881]\n"
     ]
    }
   ],
   "source": [
    "Xq = X/S2\n",
    "print(Xq)\n",
    "X1 = np.matmul(A, Xq) + B\n",
    "print(np.matmul(A, Xq))\n",
    "print(X1)\n",
    "print(S1*S2*X1)\n",
    "print(ReLU(S1*S2*X1))\n",
    "print(ReLU(S1*S2*X1)/S4)"
   ]
  },
  {
   "cell_type": "markdown",
   "id": "41f6cfef",
   "metadata": {},
   "source": [
    "You get an error if you don't case A to int32:"
   ]
  },
  {
   "cell_type": "code",
   "execution_count": 162,
   "id": "14c19bb2",
   "metadata": {},
   "outputs": [
    {
     "name": "stdout",
     "output_type": "stream",
     "text": [
      "[ -2092.0625 -69245.805  -11948.625   -2614.375   -1963.75   -16260.1875\n",
      " -17059.81   -16476.5     -1098.6862    622.5005]\n",
      "[ -2085  -3445 -11872  -2607  -1951 -16246 -16991 -16420  -1122    637] int16\n",
      "-68981\n",
      "-69245.805\n"
     ]
    }
   ],
   "source": [
    "X1 = np.matmul(A, X/S2)\n",
    "print(X1)\n",
    "Xq = np.array(X/S2, dtype=np.uint8)\n",
    "X1 = np.matmul(A, Xq)\n",
    "print(X1, X1.dtype)\n",
    "print(np.dot(A[1].astype(np.int32), Xq))\n",
    "print(np.dot(A[1], X/S2))"
   ]
  },
  {
   "cell_type": "markdown",
   "id": "9b245733",
   "metadata": {},
   "source": [
    "# Pending Issues \n",
    "\n",
    "- How to do the scaling and saturating cast instead of using ReLU?"
   ]
  },
  {
   "cell_type": "code",
   "execution_count": null,
   "id": "53806bf7",
   "metadata": {},
   "outputs": [],
   "source": []
  }
 ],
 "metadata": {
  "kernelspec": {
   "display_name": "Python 3",
   "language": "python",
   "name": "python3"
  },
  "language_info": {
   "codemirror_mode": {
    "name": "ipython",
    "version": 3
   },
   "file_extension": ".py",
   "mimetype": "text/x-python",
   "name": "python",
   "nbconvert_exporter": "python",
   "pygments_lexer": "ipython3",
   "version": "3.8.8"
  }
 },
 "nbformat": 4,
 "nbformat_minor": 5
}
