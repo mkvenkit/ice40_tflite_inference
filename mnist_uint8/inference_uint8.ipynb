{
 "cells": [
  {
   "cell_type": "code",
   "execution_count": 3,
   "id": "2d370fb6",
   "metadata": {},
   "outputs": [],
   "source": [
    "import numpy as np\n",
    "from matplotlib import pyplot as plt"
   ]
  },
  {
   "cell_type": "code",
   "execution_count": 4,
   "id": "9b5d70ec",
   "metadata": {
    "scrolled": true
   },
   "outputs": [
    {
     "name": "stdout",
     "output_type": "stream",
     "text": [
      "(128, 784) int8\n",
      "(128,) int32\n",
      "(10, 128) int8\n",
      "(10,) int32\n",
      "(28, 28) float32\n"
     ]
    }
   ],
   "source": [
    "A1 = np.load('A1.npy')\n",
    "B1 = np.load('B1.npy')\n",
    "A2 = np.load('A2.npy')\n",
    "B2 = np.load('B2.npy')\n",
    "test_image = np.load('test_image_label_27.npy')\n",
    "print(A1.shape, A1.dtype)\n",
    "print(B1.shape, B1.dtype)\n",
    "print(A2.shape, A2.dtype)\n",
    "print(B2.shape, B2.dtype)\n",
    "print(test_image.shape, test_image.dtype)"
   ]
  },
  {
   "cell_type": "code",
   "execution_count": 5,
   "id": "2e5a7b30",
   "metadata": {},
   "outputs": [
    {
     "name": "stdout",
     "output_type": "stream",
     "text": [
      "[ 0.049602 -0.03543  -0.028344 -0.056688  0.056688]\n",
      "[-0.066192  0.139524 -0.064176  0.011732  0.10094 ]\n"
     ]
    }
   ],
   "source": [
    "print(0.007086 * A1.flatten()[0:5])\n",
    "print(0.000028 *B1[0:5])"
   ]
  },
  {
   "cell_type": "markdown",
   "id": "6c19a8e6",
   "metadata": {},
   "source": [
    "For index 27, the expected label is 4. Here's the expected tensor output, obtained by running the TFLite Interpretor on the same test image:\n",
    "\n",
    "**[ 75  97 100 108 217 110  85 128  97 159]**\n",
    "\n",
    "float32:\n",
    "\n",
    "**[-13.089978 -8.978213 -8.512205 -6.994018 13.381388 -6.6630683 -11.334353 -3.0743856 -8.96207 2.6339076]**"
   ]
  },
  {
   "cell_type": "code",
   "execution_count": 6,
   "id": "aedfab9a",
   "metadata": {},
   "outputs": [
    {
     "data": {
      "image/png": "[encoded data removed]",
      "text/plain": [
       "<Figure size 432x288 with 1 Axes>"
      ]
     },
     "metadata": {
      "needs_background": "light"
     },
     "output_type": "display_data"
    }
   ],
   "source": [
    "plt.imshow(test_image)\n",
    "plt.show()"
   ]
  },
  {
   "cell_type": "code",
   "execution_count": 7,
   "id": "eeab3837",
   "metadata": {},
   "outputs": [],
   "source": [
    "#print(test_image)\n",
    "#print(test_image_uint8)"
   ]
  },
  {
   "cell_type": "code",
   "execution_count": 8,
   "id": "c561bb43",
   "metadata": {},
   "outputs": [],
   "source": [
    "def ReLU(x):\n",
    "    return x * (x > 0)"
   ]
  },
  {
   "cell_type": "markdown",
   "id": "3ea2d56b",
   "metadata": {},
   "source": [
    "These are the DNN equations:\n",
    "\n",
    "**Layer 1**\n",
    "\n",
    "$X_1 = ReLU(A_1 \\cdot X + B_1$)\n",
    "\n",
    "**Layer 2**\n",
    "\n",
    "$X_2 = A_2 \\cdot X_1 + B_2$\n",
    "\n",
    "Quantization equations:\n",
    "\n",
    "$r = S(q - Z)$\n",
    "\n",
    "Applying this above,\n",
    "\n",
    "$r_2 = $\n",
    "\n"
   ]
  },
  {
   "cell_type": "code",
   "execution_count": 29,
   "id": "684cb8e2",
   "metadata": {},
   "outputs": [
    {
     "name": "stdout",
     "output_type": "stream",
     "text": [
      "2.7787340074289946e-05\n",
      "0.00032108542029383146\n"
     ]
    }
   ],
   "source": [
    "# scales\n",
    "S1 = 0.007085771299898624 \n",
    "S2 = 0.003921568859368563\n",
    "S3 = 0.000027787340513896197 \n",
    "print(S1*S2)\n",
    "S4 = 0.04413054510951042 \n",
    "\n",
    "S5 = 0.007275809068232775 \n",
    "S6 = 0.04413054510951042 \n",
    "print(S5*S6)\n",
    "S7 = 0.00032108541927300394 \n",
    "S8 = 0.1862911880016327 "
   ]
  },
  {
   "cell_type": "code",
   "execution_count": 42,
   "id": "b7044ccc",
   "metadata": {},
   "outputs": [
    {
     "name": "stdout",
     "output_type": "stream",
     "text": [
      "[-69 -47 -44 -36  71 -35 -59 -16 -47  13] (10,)\n",
      "[-39.86631423 -35.7679081  -35.20903453 -33.71870503 -13.78554791\n",
      " -33.53241384 -38.00340235 -29.99288127 -35.7679081  -24.59043682]\n"
     ]
    }
   ],
   "source": [
    "X = test_image.flatten()\n",
    "\n",
    "# Layer 1 \n",
    "Xq = np.array(X/S2, dtype=np.uint8)\n",
    "X1 = np.array(np.matmul(A1.astype(np.int32), Xq) + B1, dtype=np.int32)\n",
    "#print(X1)\n",
    "#print(S1*S2*X1)\n",
    "\n",
    "X1 = ReLU((S1*S2/S4)*X1)\n",
    "X1 = X1.astype(np.int8)\n",
    "#print(X1)\n",
    "X2 = np.array(np.matmul(A2.astype(np.int32), X1) + B2, dtype=np.int32)\n",
    "X2 = (S5*S6/S8)*X2\n",
    "X2 = X2.astype(np.int8)\n",
    "print(X2, X2.shape)\n",
    "print(S8*(X2-17-128))"
   ]
  },
  {
   "cell_type": "code",
   "execution_count": 27,
   "id": "677a8901",
   "metadata": {},
   "outputs": [
    {
     "data": {
      "text/plain": [
       "array([10.8048889 , 14.90329504, 15.4621686 , 16.95249811, 37.2582376 ,\n",
       "       17.32508048, 12.66780078, 20.67832187, 14.90329504, 26.4533487 ])"
      ]
     },
     "execution_count": 27,
     "metadata": {},
     "output_type": "execute_result"
    }
   ],
   "source": [
    "x = np.array([ 75, 97, 100, 108, 217, 110, 85, 128, 97, 159])\n",
    "0.1862911880016327 * (x - 17) "
   ]
  },
  {
   "cell_type": "code",
   "execution_count": null,
   "id": "086fe64b",
   "metadata": {},
   "outputs": [],
   "source": []
  }
 ],
 "metadata": {
  "kernelspec": {
   "display_name": "Python 3",
   "language": "python",
   "name": "python3"
  },
  "language_info": {
   "codemirror_mode": {
    "name": "ipython",
    "version": 3
   },
   "file_extension": ".py",
   "mimetype": "text/x-python",
   "name": "python",
   "nbconvert_exporter": "python",
   "pygments_lexer": "ipython3",
   "version": "3.8.8"
  }
 },
 "nbformat": 4,
 "nbformat_minor": 5
}
